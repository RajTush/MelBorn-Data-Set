{
 "cells": [
  {
   "cell_type": "markdown",
   "id": "891a6659-74dd-4e01-9c92-f2cc56ff1e0d",
   "metadata": {},
   "source": [
    "# Melbourn Dataset"
   ]
  },
  {
   "cell_type": "code",
   "execution_count": null,
   "id": "0e854b4c-0cde-4eb8-a3ac-9904727ff9d3",
   "metadata": {},
   "outputs": [],
   "source": [
    "import pandas as pd"
   ]
  },
  {
   "cell_type": "code",
   "execution_count": 2,
   "id": "5ba7ec59-0951-4601-a8f2-925d71cb2e63",
   "metadata": {
    "tags": []
   },
   "outputs": [
    {
     "data": {
      "text/html": [
       "<div>\n",
       "<style scoped>\n",
       "    .dataframe tbody tr th:only-of-type {\n",
       "        vertical-align: middle;\n",
       "    }\n",
       "\n",
       "    .dataframe tbody tr th {\n",
       "        vertical-align: top;\n",
       "    }\n",
       "\n",
       "    .dataframe thead th {\n",
       "        text-align: right;\n",
       "    }\n",
       "</style>\n",
       "<table border=\"1\" class=\"dataframe\">\n",
       "  <thead>\n",
       "    <tr style=\"text-align: right;\">\n",
       "      <th></th>\n",
       "      <th>Suburb</th>\n",
       "      <th>Address</th>\n",
       "      <th>Rooms</th>\n",
       "      <th>Type</th>\n",
       "      <th>Price</th>\n",
       "      <th>Method</th>\n",
       "      <th>SellerG</th>\n",
       "      <th>Date</th>\n",
       "      <th>Distance</th>\n",
       "      <th>Postcode</th>\n",
       "      <th>...</th>\n",
       "      <th>Bathroom</th>\n",
       "      <th>Car</th>\n",
       "      <th>Landsize</th>\n",
       "      <th>BuildingArea</th>\n",
       "      <th>YearBuilt</th>\n",
       "      <th>CouncilArea</th>\n",
       "      <th>Lattitude</th>\n",
       "      <th>Longtitude</th>\n",
       "      <th>Regionname</th>\n",
       "      <th>Propertycount</th>\n",
       "    </tr>\n",
       "  </thead>\n",
       "  <tbody>\n",
       "    <tr>\n",
       "      <th>0</th>\n",
       "      <td>Abbotsford</td>\n",
       "      <td>68 Studley St</td>\n",
       "      <td>2</td>\n",
       "      <td>h</td>\n",
       "      <td>NaN</td>\n",
       "      <td>SS</td>\n",
       "      <td>Jellis</td>\n",
       "      <td>3/09/2016</td>\n",
       "      <td>2.5</td>\n",
       "      <td>3067.0</td>\n",
       "      <td>...</td>\n",
       "      <td>1.0</td>\n",
       "      <td>1.0</td>\n",
       "      <td>126.0</td>\n",
       "      <td>NaN</td>\n",
       "      <td>NaN</td>\n",
       "      <td>Yarra City Council</td>\n",
       "      <td>-37.8014</td>\n",
       "      <td>144.9958</td>\n",
       "      <td>Northern Metropolitan</td>\n",
       "      <td>4019.0</td>\n",
       "    </tr>\n",
       "    <tr>\n",
       "      <th>1</th>\n",
       "      <td>Abbotsford</td>\n",
       "      <td>85 Turner St</td>\n",
       "      <td>2</td>\n",
       "      <td>h</td>\n",
       "      <td>1480000.0</td>\n",
       "      <td>S</td>\n",
       "      <td>Biggin</td>\n",
       "      <td>3/12/2016</td>\n",
       "      <td>2.5</td>\n",
       "      <td>3067.0</td>\n",
       "      <td>...</td>\n",
       "      <td>1.0</td>\n",
       "      <td>1.0</td>\n",
       "      <td>202.0</td>\n",
       "      <td>NaN</td>\n",
       "      <td>NaN</td>\n",
       "      <td>Yarra City Council</td>\n",
       "      <td>-37.7996</td>\n",
       "      <td>144.9984</td>\n",
       "      <td>Northern Metropolitan</td>\n",
       "      <td>4019.0</td>\n",
       "    </tr>\n",
       "    <tr>\n",
       "      <th>2</th>\n",
       "      <td>Abbotsford</td>\n",
       "      <td>25 Bloomburg St</td>\n",
       "      <td>2</td>\n",
       "      <td>h</td>\n",
       "      <td>1035000.0</td>\n",
       "      <td>S</td>\n",
       "      <td>Biggin</td>\n",
       "      <td>4/02/2016</td>\n",
       "      <td>2.5</td>\n",
       "      <td>3067.0</td>\n",
       "      <td>...</td>\n",
       "      <td>1.0</td>\n",
       "      <td>0.0</td>\n",
       "      <td>156.0</td>\n",
       "      <td>79.0</td>\n",
       "      <td>1900.0</td>\n",
       "      <td>Yarra City Council</td>\n",
       "      <td>-37.8079</td>\n",
       "      <td>144.9934</td>\n",
       "      <td>Northern Metropolitan</td>\n",
       "      <td>4019.0</td>\n",
       "    </tr>\n",
       "    <tr>\n",
       "      <th>3</th>\n",
       "      <td>Abbotsford</td>\n",
       "      <td>18/659 Victoria St</td>\n",
       "      <td>3</td>\n",
       "      <td>u</td>\n",
       "      <td>NaN</td>\n",
       "      <td>VB</td>\n",
       "      <td>Rounds</td>\n",
       "      <td>4/02/2016</td>\n",
       "      <td>2.5</td>\n",
       "      <td>3067.0</td>\n",
       "      <td>...</td>\n",
       "      <td>2.0</td>\n",
       "      <td>1.0</td>\n",
       "      <td>0.0</td>\n",
       "      <td>NaN</td>\n",
       "      <td>NaN</td>\n",
       "      <td>Yarra City Council</td>\n",
       "      <td>-37.8114</td>\n",
       "      <td>145.0116</td>\n",
       "      <td>Northern Metropolitan</td>\n",
       "      <td>4019.0</td>\n",
       "    </tr>\n",
       "    <tr>\n",
       "      <th>4</th>\n",
       "      <td>Abbotsford</td>\n",
       "      <td>5 Charles St</td>\n",
       "      <td>3</td>\n",
       "      <td>h</td>\n",
       "      <td>1465000.0</td>\n",
       "      <td>SP</td>\n",
       "      <td>Biggin</td>\n",
       "      <td>4/03/2017</td>\n",
       "      <td>2.5</td>\n",
       "      <td>3067.0</td>\n",
       "      <td>...</td>\n",
       "      <td>2.0</td>\n",
       "      <td>0.0</td>\n",
       "      <td>134.0</td>\n",
       "      <td>150.0</td>\n",
       "      <td>1900.0</td>\n",
       "      <td>Yarra City Council</td>\n",
       "      <td>-37.8093</td>\n",
       "      <td>144.9944</td>\n",
       "      <td>Northern Metropolitan</td>\n",
       "      <td>4019.0</td>\n",
       "    </tr>\n",
       "  </tbody>\n",
       "</table>\n",
       "<p>5 rows × 21 columns</p>\n",
       "</div>"
      ],
      "text/plain": [
       "       Suburb             Address  Rooms Type      Price Method SellerG  \\\n",
       "0  Abbotsford       68 Studley St      2    h        NaN     SS  Jellis   \n",
       "1  Abbotsford        85 Turner St      2    h  1480000.0      S  Biggin   \n",
       "2  Abbotsford     25 Bloomburg St      2    h  1035000.0      S  Biggin   \n",
       "3  Abbotsford  18/659 Victoria St      3    u        NaN     VB  Rounds   \n",
       "4  Abbotsford        5 Charles St      3    h  1465000.0     SP  Biggin   \n",
       "\n",
       "        Date  Distance  Postcode  ...  Bathroom  Car  Landsize  BuildingArea  \\\n",
       "0  3/09/2016       2.5    3067.0  ...       1.0  1.0     126.0           NaN   \n",
       "1  3/12/2016       2.5    3067.0  ...       1.0  1.0     202.0           NaN   \n",
       "2  4/02/2016       2.5    3067.0  ...       1.0  0.0     156.0          79.0   \n",
       "3  4/02/2016       2.5    3067.0  ...       2.0  1.0       0.0           NaN   \n",
       "4  4/03/2017       2.5    3067.0  ...       2.0  0.0     134.0         150.0   \n",
       "\n",
       "   YearBuilt         CouncilArea Lattitude  Longtitude             Regionname  \\\n",
       "0        NaN  Yarra City Council  -37.8014    144.9958  Northern Metropolitan   \n",
       "1        NaN  Yarra City Council  -37.7996    144.9984  Northern Metropolitan   \n",
       "2     1900.0  Yarra City Council  -37.8079    144.9934  Northern Metropolitan   \n",
       "3        NaN  Yarra City Council  -37.8114    145.0116  Northern Metropolitan   \n",
       "4     1900.0  Yarra City Council  -37.8093    144.9944  Northern Metropolitan   \n",
       "\n",
       "  Propertycount  \n",
       "0        4019.0  \n",
       "1        4019.0  \n",
       "2        4019.0  \n",
       "3        4019.0  \n",
       "4        4019.0  \n",
       "\n",
       "[5 rows x 21 columns]"
      ]
     },
     "execution_count": 2,
     "metadata": {},
     "output_type": "execute_result"
    }
   ],
   "source": [
    "df=pd.read_csv('Melbourne_housing_Full.csv')\n",
    "df.head()"
   ]
  },
  {
   "cell_type": "code",
   "execution_count": 3,
   "id": "ae8ae3db-d01c-45b5-b05d-3016404bc6c6",
   "metadata": {},
   "outputs": [],
   "source": [
    "cols_to_use = ['Suburb', 'Rooms', 'Type', 'Method', 'SellerG', 'Regionname', 'Propertycount', \n",
    "               'Distance', 'CouncilArea', 'Bedroom2', 'Bathroom', 'Car', 'Landsize', 'BuildingArea', 'Price']\n",
    "df = df[cols_to_use]"
   ]
  },
  {
   "cell_type": "code",
   "execution_count": 4,
   "id": "8b64c370-30e4-4772-963c-ce933063476f",
   "metadata": {
    "tags": []
   },
   "outputs": [
    {
     "data": {
      "text/html": [
       "<div>\n",
       "<style scoped>\n",
       "    .dataframe tbody tr th:only-of-type {\n",
       "        vertical-align: middle;\n",
       "    }\n",
       "\n",
       "    .dataframe tbody tr th {\n",
       "        vertical-align: top;\n",
       "    }\n",
       "\n",
       "    .dataframe thead th {\n",
       "        text-align: right;\n",
       "    }\n",
       "</style>\n",
       "<table border=\"1\" class=\"dataframe\">\n",
       "  <thead>\n",
       "    <tr style=\"text-align: right;\">\n",
       "      <th></th>\n",
       "      <th>Suburb</th>\n",
       "      <th>Rooms</th>\n",
       "      <th>Type</th>\n",
       "      <th>Method</th>\n",
       "      <th>SellerG</th>\n",
       "      <th>Regionname</th>\n",
       "      <th>Propertycount</th>\n",
       "      <th>Distance</th>\n",
       "      <th>CouncilArea</th>\n",
       "      <th>Bedroom2</th>\n",
       "      <th>Bathroom</th>\n",
       "      <th>Car</th>\n",
       "      <th>Landsize</th>\n",
       "      <th>BuildingArea</th>\n",
       "      <th>Price</th>\n",
       "    </tr>\n",
       "  </thead>\n",
       "  <tbody>\n",
       "    <tr>\n",
       "      <th>0</th>\n",
       "      <td>Abbotsford</td>\n",
       "      <td>2</td>\n",
       "      <td>h</td>\n",
       "      <td>SS</td>\n",
       "      <td>Jellis</td>\n",
       "      <td>Northern Metropolitan</td>\n",
       "      <td>4019.0</td>\n",
       "      <td>2.5</td>\n",
       "      <td>Yarra City Council</td>\n",
       "      <td>2.0</td>\n",
       "      <td>1.0</td>\n",
       "      <td>1.0</td>\n",
       "      <td>126.0</td>\n",
       "      <td>NaN</td>\n",
       "      <td>NaN</td>\n",
       "    </tr>\n",
       "    <tr>\n",
       "      <th>1</th>\n",
       "      <td>Abbotsford</td>\n",
       "      <td>2</td>\n",
       "      <td>h</td>\n",
       "      <td>S</td>\n",
       "      <td>Biggin</td>\n",
       "      <td>Northern Metropolitan</td>\n",
       "      <td>4019.0</td>\n",
       "      <td>2.5</td>\n",
       "      <td>Yarra City Council</td>\n",
       "      <td>2.0</td>\n",
       "      <td>1.0</td>\n",
       "      <td>1.0</td>\n",
       "      <td>202.0</td>\n",
       "      <td>NaN</td>\n",
       "      <td>1480000.0</td>\n",
       "    </tr>\n",
       "    <tr>\n",
       "      <th>2</th>\n",
       "      <td>Abbotsford</td>\n",
       "      <td>2</td>\n",
       "      <td>h</td>\n",
       "      <td>S</td>\n",
       "      <td>Biggin</td>\n",
       "      <td>Northern Metropolitan</td>\n",
       "      <td>4019.0</td>\n",
       "      <td>2.5</td>\n",
       "      <td>Yarra City Council</td>\n",
       "      <td>2.0</td>\n",
       "      <td>1.0</td>\n",
       "      <td>0.0</td>\n",
       "      <td>156.0</td>\n",
       "      <td>79.0</td>\n",
       "      <td>1035000.0</td>\n",
       "    </tr>\n",
       "    <tr>\n",
       "      <th>3</th>\n",
       "      <td>Abbotsford</td>\n",
       "      <td>3</td>\n",
       "      <td>u</td>\n",
       "      <td>VB</td>\n",
       "      <td>Rounds</td>\n",
       "      <td>Northern Metropolitan</td>\n",
       "      <td>4019.0</td>\n",
       "      <td>2.5</td>\n",
       "      <td>Yarra City Council</td>\n",
       "      <td>3.0</td>\n",
       "      <td>2.0</td>\n",
       "      <td>1.0</td>\n",
       "      <td>0.0</td>\n",
       "      <td>NaN</td>\n",
       "      <td>NaN</td>\n",
       "    </tr>\n",
       "    <tr>\n",
       "      <th>4</th>\n",
       "      <td>Abbotsford</td>\n",
       "      <td>3</td>\n",
       "      <td>h</td>\n",
       "      <td>SP</td>\n",
       "      <td>Biggin</td>\n",
       "      <td>Northern Metropolitan</td>\n",
       "      <td>4019.0</td>\n",
       "      <td>2.5</td>\n",
       "      <td>Yarra City Council</td>\n",
       "      <td>3.0</td>\n",
       "      <td>2.0</td>\n",
       "      <td>0.0</td>\n",
       "      <td>134.0</td>\n",
       "      <td>150.0</td>\n",
       "      <td>1465000.0</td>\n",
       "    </tr>\n",
       "  </tbody>\n",
       "</table>\n",
       "</div>"
      ],
      "text/plain": [
       "       Suburb  Rooms Type Method SellerG             Regionname  \\\n",
       "0  Abbotsford      2    h     SS  Jellis  Northern Metropolitan   \n",
       "1  Abbotsford      2    h      S  Biggin  Northern Metropolitan   \n",
       "2  Abbotsford      2    h      S  Biggin  Northern Metropolitan   \n",
       "3  Abbotsford      3    u     VB  Rounds  Northern Metropolitan   \n",
       "4  Abbotsford      3    h     SP  Biggin  Northern Metropolitan   \n",
       "\n",
       "   Propertycount  Distance         CouncilArea  Bedroom2  Bathroom  Car  \\\n",
       "0         4019.0       2.5  Yarra City Council       2.0       1.0  1.0   \n",
       "1         4019.0       2.5  Yarra City Council       2.0       1.0  1.0   \n",
       "2         4019.0       2.5  Yarra City Council       2.0       1.0  0.0   \n",
       "3         4019.0       2.5  Yarra City Council       3.0       2.0  1.0   \n",
       "4         4019.0       2.5  Yarra City Council       3.0       2.0  0.0   \n",
       "\n",
       "   Landsize  BuildingArea      Price  \n",
       "0     126.0           NaN        NaN  \n",
       "1     202.0           NaN  1480000.0  \n",
       "2     156.0          79.0  1035000.0  \n",
       "3       0.0           NaN        NaN  \n",
       "4     134.0         150.0  1465000.0  "
      ]
     },
     "execution_count": 4,
     "metadata": {},
     "output_type": "execute_result"
    }
   ],
   "source": [
    "df.head()"
   ]
  },
  {
   "cell_type": "code",
   "execution_count": 5,
   "id": "2cbe2ec3-c6a8-4b97-a92c-d9b730ea4609",
   "metadata": {
    "tags": []
   },
   "outputs": [
    {
     "data": {
      "text/html": [
       "<div>\n",
       "<style scoped>\n",
       "    .dataframe tbody tr th:only-of-type {\n",
       "        vertical-align: middle;\n",
       "    }\n",
       "\n",
       "    .dataframe tbody tr th {\n",
       "        vertical-align: top;\n",
       "    }\n",
       "\n",
       "    .dataframe thead th {\n",
       "        text-align: right;\n",
       "    }\n",
       "</style>\n",
       "<table border=\"1\" class=\"dataframe\">\n",
       "  <thead>\n",
       "    <tr style=\"text-align: right;\">\n",
       "      <th></th>\n",
       "      <th>Suburb</th>\n",
       "      <th>Rooms</th>\n",
       "      <th>Type</th>\n",
       "      <th>Method</th>\n",
       "      <th>SellerG</th>\n",
       "      <th>Regionname</th>\n",
       "      <th>Propertycount</th>\n",
       "      <th>Distance</th>\n",
       "      <th>CouncilArea</th>\n",
       "      <th>Bedroom2</th>\n",
       "      <th>Bathroom</th>\n",
       "      <th>Car</th>\n",
       "      <th>Landsize</th>\n",
       "      <th>BuildingArea</th>\n",
       "      <th>Price</th>\n",
       "    </tr>\n",
       "  </thead>\n",
       "  <tbody>\n",
       "    <tr>\n",
       "      <th>34852</th>\n",
       "      <td>Yarraville</td>\n",
       "      <td>4</td>\n",
       "      <td>h</td>\n",
       "      <td>PI</td>\n",
       "      <td>Jas</td>\n",
       "      <td>Western Metropolitan</td>\n",
       "      <td>6543.0</td>\n",
       "      <td>6.3</td>\n",
       "      <td>Maribyrnong City Council</td>\n",
       "      <td>4.0</td>\n",
       "      <td>1.0</td>\n",
       "      <td>3.0</td>\n",
       "      <td>593.0</td>\n",
       "      <td>NaN</td>\n",
       "      <td>1480000.0</td>\n",
       "    </tr>\n",
       "    <tr>\n",
       "      <th>34853</th>\n",
       "      <td>Yarraville</td>\n",
       "      <td>2</td>\n",
       "      <td>h</td>\n",
       "      <td>SP</td>\n",
       "      <td>Sweeney</td>\n",
       "      <td>Western Metropolitan</td>\n",
       "      <td>6543.0</td>\n",
       "      <td>6.3</td>\n",
       "      <td>Maribyrnong City Council</td>\n",
       "      <td>2.0</td>\n",
       "      <td>2.0</td>\n",
       "      <td>1.0</td>\n",
       "      <td>98.0</td>\n",
       "      <td>104.0</td>\n",
       "      <td>888000.0</td>\n",
       "    </tr>\n",
       "    <tr>\n",
       "      <th>34854</th>\n",
       "      <td>Yarraville</td>\n",
       "      <td>2</td>\n",
       "      <td>t</td>\n",
       "      <td>S</td>\n",
       "      <td>Jas</td>\n",
       "      <td>Western Metropolitan</td>\n",
       "      <td>6543.0</td>\n",
       "      <td>6.3</td>\n",
       "      <td>Maribyrnong City Council</td>\n",
       "      <td>2.0</td>\n",
       "      <td>1.0</td>\n",
       "      <td>2.0</td>\n",
       "      <td>220.0</td>\n",
       "      <td>120.0</td>\n",
       "      <td>705000.0</td>\n",
       "    </tr>\n",
       "    <tr>\n",
       "      <th>34855</th>\n",
       "      <td>Yarraville</td>\n",
       "      <td>3</td>\n",
       "      <td>h</td>\n",
       "      <td>SP</td>\n",
       "      <td>hockingstuart</td>\n",
       "      <td>Western Metropolitan</td>\n",
       "      <td>6543.0</td>\n",
       "      <td>6.3</td>\n",
       "      <td>Maribyrnong City Council</td>\n",
       "      <td>NaN</td>\n",
       "      <td>NaN</td>\n",
       "      <td>NaN</td>\n",
       "      <td>NaN</td>\n",
       "      <td>NaN</td>\n",
       "      <td>1140000.0</td>\n",
       "    </tr>\n",
       "    <tr>\n",
       "      <th>34856</th>\n",
       "      <td>Yarraville</td>\n",
       "      <td>2</td>\n",
       "      <td>h</td>\n",
       "      <td>PI</td>\n",
       "      <td>RW</td>\n",
       "      <td>Western Metropolitan</td>\n",
       "      <td>6543.0</td>\n",
       "      <td>6.3</td>\n",
       "      <td>Maribyrnong City Council</td>\n",
       "      <td>2.0</td>\n",
       "      <td>1.0</td>\n",
       "      <td>0.0</td>\n",
       "      <td>250.0</td>\n",
       "      <td>103.0</td>\n",
       "      <td>1020000.0</td>\n",
       "    </tr>\n",
       "  </tbody>\n",
       "</table>\n",
       "</div>"
      ],
      "text/plain": [
       "           Suburb  Rooms Type Method        SellerG            Regionname  \\\n",
       "34852  Yarraville      4    h     PI            Jas  Western Metropolitan   \n",
       "34853  Yarraville      2    h     SP        Sweeney  Western Metropolitan   \n",
       "34854  Yarraville      2    t      S            Jas  Western Metropolitan   \n",
       "34855  Yarraville      3    h     SP  hockingstuart  Western Metropolitan   \n",
       "34856  Yarraville      2    h     PI             RW  Western Metropolitan   \n",
       "\n",
       "       Propertycount  Distance               CouncilArea  Bedroom2  Bathroom  \\\n",
       "34852         6543.0       6.3  Maribyrnong City Council       4.0       1.0   \n",
       "34853         6543.0       6.3  Maribyrnong City Council       2.0       2.0   \n",
       "34854         6543.0       6.3  Maribyrnong City Council       2.0       1.0   \n",
       "34855         6543.0       6.3  Maribyrnong City Council       NaN       NaN   \n",
       "34856         6543.0       6.3  Maribyrnong City Council       2.0       1.0   \n",
       "\n",
       "       Car  Landsize  BuildingArea      Price  \n",
       "34852  3.0     593.0           NaN  1480000.0  \n",
       "34853  1.0      98.0         104.0   888000.0  \n",
       "34854  2.0     220.0         120.0   705000.0  \n",
       "34855  NaN       NaN           NaN  1140000.0  \n",
       "34856  0.0     250.0         103.0  1020000.0  "
      ]
     },
     "execution_count": 5,
     "metadata": {},
     "output_type": "execute_result"
    }
   ],
   "source": [
    "df.tail()"
   ]
  },
  {
   "cell_type": "code",
   "execution_count": 6,
   "id": "ce81e398-5d84-4b92-9741-129bef28da14",
   "metadata": {},
   "outputs": [
    {
     "data": {
      "text/plain": [
       "(34857, 15)"
      ]
     },
     "execution_count": 6,
     "metadata": {},
     "output_type": "execute_result"
    }
   ],
   "source": [
    "df.shape"
   ]
  },
  {
   "cell_type": "markdown",
   "id": "4eb20350-e25e-4edf-bc0b-1bb6ce94d559",
   "metadata": {},
   "source": [
    "## Conclusion"
   ]
  },
  {
   "cell_type": "code",
   "execution_count": null,
   "id": "1aba4b9a-fcde-4581-b250-b0c81313b376",
   "metadata": {},
   "outputs": [],
   "source": []
  },
  {
   "cell_type": "code",
   "execution_count": 7,
   "id": "bdb6fe2b-defc-44c3-9afc-71d169113aab",
   "metadata": {
    "collapsed": true,
    "jupyter": {
     "outputs_hidden": true
    },
    "tags": []
   },
   "outputs": [
    {
     "data": {
      "text/plain": [
       "array([ 4019.,  3464.,  3280.,  2211.,  5301.,  5132.,  4836.,  6567.,\n",
       "        3052.,  2894.,  4502.,  2952.,  5682.,  7809.,  6795., 10969.,\n",
       "        4605.,  3589., 10579.,  6938., 11918.,  7082.,  4480.,  5678.,\n",
       "        8920.,  3265.,  3106.,  7822.,  2379.,  6923.,  5051.,  3582.,\n",
       "        2954., 11204.,  3445.,  4553.,  9028.,  1651.,  4898.,  8989.,\n",
       "        9264.,  1308.,  2970.,  5825.,  6244.,  3593.,  7570., 10412.,\n",
       "        8870.,  1071.,  2606.,  5454.,  2356., 11308.,  2947.,  2674.,\n",
       "        3145.,  5549.,  1202.,  5629.,  5263., 10331.,  2671.,   394.,\n",
       "        3873.,  4675.,  8801.,  4918., 17496.,  2019.,  2079.,  6232.,\n",
       "        2555.,  5498.,  2291.,  6821., 11364.,  2651.,  3692.,  2309.,\n",
       "        7485.,  8648.,  7717., 14577., 21650., 14949.,  3540.,  2417.,\n",
       "        5943., 14887.,  8400.,  1223., 13240.,  3284.,  3755.,  4217.,\n",
       "        6763.,  5457.,  5420.,  7217.,  2698.,  2329.,  2230.,  6380.,\n",
       "         802.,  4380.,  1369.,  6543.,  1543.,   790.,  5533.,   438.,\n",
       "        1889.,  6786.,  3040.,   588.,  5070.,  6482.,  2890.,  1554.,\n",
       "         851.,  1414.,  1808.,  4442.,  3578.,  5058.,  2185.,   962.,\n",
       "        2403.,  3224.,   821.,  1123.,  4707.,   984.,   389.,  1052.,\n",
       "         608.,   852.,  1119.,   534.,  1008.,  7630.,  1281.,  1130.,\n",
       "        5030.,  3598.,  5366., 17093.,  5713.,  4387.,  9704.,  1390.,\n",
       "        4294., 10175.,  1686.,  4048.,  7719.,  9758.,  2727.,  5837.,\n",
       "        2987., 15510.,  7680., 11925.,  1705.,  2985., 10894.,  8322.,\n",
       "        4258.,  3940., 10999.,  4790.,  7254.,  2546.,  6990.,  2346.,\n",
       "        2259., 10926.,   845., 10788.,  4385., 17055.,  2500.,  7566.,\n",
       "        3376.,  3285., 15321.,  8524.,  4864.,  3728.,  3307.,  3794.,\n",
       "        4794.,  5556., 13830.,   768.,  3656.,   570.,  8459.,  2878.,\n",
       "        8279.,  1624.,  2322.,  4168.,  3600.,  4718.,  6065.,  6162.,\n",
       "        5812.,  1158., 10529.,  6871.,  3891.,  2493.,  3650., 13366.,\n",
       "        7113.,  9376., 11806.,  4973.,  2547.,  5087., 15542.,  7785.,\n",
       "        4407.,   538., 11667.,  5833.,  4497.,  1793.,  8077.,  2756.,\n",
       "        7969.,  7412.,  4054., 14042.,   915., 14092.,  3640., 10160.,\n",
       "        4242.,  5336.,   869.,  6202.,  1690.,  7955.,  5811.,  3296.,\n",
       "        4181.,  4280.,  5424., 16166.,  2474.,  1999.,  2940.,  5262.,\n",
       "        2824.,  2866.,  2867.,  2887.,  1989.,  3906.,  4734.,  2246.,\n",
       "        2898.,  3533.,  2397.,  8280., 17384.,  3619.,  2206.,  2003.,\n",
       "        1442.,   642.,  7392.,  1899.,  2243.,  1588.,  8060.,  5462.,\n",
       "        6464.,  6388.,  1048.,  4654.,  8743.,   902.,  3351.,  1475.,\n",
       "         973.,  2076.,  3789.,  1124.,  2992.,  8256.,  2339.,  4704.,\n",
       "        3532.,  1058.,  1721.,   457.,  3988.,  1863.,  2276.,  1184.,\n",
       "        2949.,  2591.,  1595.,  2871.,   249.,   892.,  1345.,  3553.,\n",
       "        2004.,  6732.,  1328.,  8443.,    nan,  2768.,   794.,   709.,\n",
       "        2332.,  1160.,  3122.,  2126.,   777.,  2170.,  1607.,   849.,\n",
       "         129.,  1490.,  1424.,   335.,    83.,   290.,   938.,  1240.,\n",
       "         271.,   810.,   242.,  4939.,   604.,   121.,   342.])"
      ]
     },
     "execution_count": 7,
     "metadata": {},
     "output_type": "execute_result"
    }
   ],
   "source": [
    "df['Propertycount'].unique()"
   ]
  },
  {
   "cell_type": "code",
   "execution_count": 8,
   "id": "97c1b85e-e4c5-4465-be82-6a4633209565",
   "metadata": {},
   "outputs": [
    {
     "data": {
      "text/plain": [
       "522855"
      ]
     },
     "execution_count": 8,
     "metadata": {},
     "output_type": "execute_result"
    }
   ],
   "source": [
    "df.size"
   ]
  },
  {
   "cell_type": "code",
   "execution_count": 9,
   "id": "4699d25b-8d94-4a59-be30-f9d31fdf3628",
   "metadata": {},
   "outputs": [
    {
     "name": "stdout",
     "output_type": "stream",
     "text": [
      "<class 'pandas.core.frame.DataFrame'>\n",
      "RangeIndex: 34857 entries, 0 to 34856\n",
      "Data columns (total 15 columns):\n",
      " #   Column         Non-Null Count  Dtype  \n",
      "---  ------         --------------  -----  \n",
      " 0   Suburb         34857 non-null  object \n",
      " 1   Rooms          34857 non-null  int64  \n",
      " 2   Type           34857 non-null  object \n",
      " 3   Method         34857 non-null  object \n",
      " 4   SellerG        34857 non-null  object \n",
      " 5   Regionname     34854 non-null  object \n",
      " 6   Propertycount  34854 non-null  float64\n",
      " 7   Distance       34856 non-null  float64\n",
      " 8   CouncilArea    34854 non-null  object \n",
      " 9   Bedroom2       26640 non-null  float64\n",
      " 10  Bathroom       26631 non-null  float64\n",
      " 11  Car            26129 non-null  float64\n",
      " 12  Landsize       23047 non-null  float64\n",
      " 13  BuildingArea   13742 non-null  float64\n",
      " 14  Price          27247 non-null  float64\n",
      "dtypes: float64(8), int64(1), object(6)\n",
      "memory usage: 4.0+ MB\n"
     ]
    }
   ],
   "source": [
    "df.info()"
   ]
  },
  {
   "cell_type": "code",
   "execution_count": 10,
   "id": "fdaf3c9e-6298-48d0-ba48-83f74089489e",
   "metadata": {},
   "outputs": [
    {
     "data": {
      "text/html": [
       "<div>\n",
       "<style scoped>\n",
       "    .dataframe tbody tr th:only-of-type {\n",
       "        vertical-align: middle;\n",
       "    }\n",
       "\n",
       "    .dataframe tbody tr th {\n",
       "        vertical-align: top;\n",
       "    }\n",
       "\n",
       "    .dataframe thead th {\n",
       "        text-align: right;\n",
       "    }\n",
       "</style>\n",
       "<table border=\"1\" class=\"dataframe\">\n",
       "  <thead>\n",
       "    <tr style=\"text-align: right;\">\n",
       "      <th></th>\n",
       "      <th>Rooms</th>\n",
       "      <th>Propertycount</th>\n",
       "      <th>Distance</th>\n",
       "      <th>Bedroom2</th>\n",
       "      <th>Bathroom</th>\n",
       "      <th>Car</th>\n",
       "      <th>Landsize</th>\n",
       "      <th>BuildingArea</th>\n",
       "      <th>Price</th>\n",
       "    </tr>\n",
       "  </thead>\n",
       "  <tbody>\n",
       "    <tr>\n",
       "      <th>count</th>\n",
       "      <td>34857.000000</td>\n",
       "      <td>34854.000000</td>\n",
       "      <td>34856.000000</td>\n",
       "      <td>26640.000000</td>\n",
       "      <td>26631.000000</td>\n",
       "      <td>26129.000000</td>\n",
       "      <td>23047.000000</td>\n",
       "      <td>13742.00000</td>\n",
       "      <td>2.724700e+04</td>\n",
       "    </tr>\n",
       "    <tr>\n",
       "      <th>mean</th>\n",
       "      <td>3.031012</td>\n",
       "      <td>7572.888306</td>\n",
       "      <td>11.184929</td>\n",
       "      <td>3.084647</td>\n",
       "      <td>1.624798</td>\n",
       "      <td>1.728845</td>\n",
       "      <td>593.598993</td>\n",
       "      <td>160.25640</td>\n",
       "      <td>1.050173e+06</td>\n",
       "    </tr>\n",
       "    <tr>\n",
       "      <th>std</th>\n",
       "      <td>0.969933</td>\n",
       "      <td>4428.090313</td>\n",
       "      <td>6.788892</td>\n",
       "      <td>0.980690</td>\n",
       "      <td>0.724212</td>\n",
       "      <td>1.010771</td>\n",
       "      <td>3398.841946</td>\n",
       "      <td>401.26706</td>\n",
       "      <td>6.414671e+05</td>\n",
       "    </tr>\n",
       "    <tr>\n",
       "      <th>min</th>\n",
       "      <td>1.000000</td>\n",
       "      <td>83.000000</td>\n",
       "      <td>0.000000</td>\n",
       "      <td>0.000000</td>\n",
       "      <td>0.000000</td>\n",
       "      <td>0.000000</td>\n",
       "      <td>0.000000</td>\n",
       "      <td>0.00000</td>\n",
       "      <td>8.500000e+04</td>\n",
       "    </tr>\n",
       "    <tr>\n",
       "      <th>25%</th>\n",
       "      <td>2.000000</td>\n",
       "      <td>4385.000000</td>\n",
       "      <td>6.400000</td>\n",
       "      <td>2.000000</td>\n",
       "      <td>1.000000</td>\n",
       "      <td>1.000000</td>\n",
       "      <td>224.000000</td>\n",
       "      <td>102.00000</td>\n",
       "      <td>6.350000e+05</td>\n",
       "    </tr>\n",
       "    <tr>\n",
       "      <th>50%</th>\n",
       "      <td>3.000000</td>\n",
       "      <td>6763.000000</td>\n",
       "      <td>10.300000</td>\n",
       "      <td>3.000000</td>\n",
       "      <td>2.000000</td>\n",
       "      <td>2.000000</td>\n",
       "      <td>521.000000</td>\n",
       "      <td>136.00000</td>\n",
       "      <td>8.700000e+05</td>\n",
       "    </tr>\n",
       "    <tr>\n",
       "      <th>75%</th>\n",
       "      <td>4.000000</td>\n",
       "      <td>10412.000000</td>\n",
       "      <td>14.000000</td>\n",
       "      <td>4.000000</td>\n",
       "      <td>2.000000</td>\n",
       "      <td>2.000000</td>\n",
       "      <td>670.000000</td>\n",
       "      <td>188.00000</td>\n",
       "      <td>1.295000e+06</td>\n",
       "    </tr>\n",
       "    <tr>\n",
       "      <th>max</th>\n",
       "      <td>16.000000</td>\n",
       "      <td>21650.000000</td>\n",
       "      <td>48.100000</td>\n",
       "      <td>30.000000</td>\n",
       "      <td>12.000000</td>\n",
       "      <td>26.000000</td>\n",
       "      <td>433014.000000</td>\n",
       "      <td>44515.00000</td>\n",
       "      <td>1.120000e+07</td>\n",
       "    </tr>\n",
       "  </tbody>\n",
       "</table>\n",
       "</div>"
      ],
      "text/plain": [
       "              Rooms  Propertycount      Distance      Bedroom2      Bathroom  \\\n",
       "count  34857.000000   34854.000000  34856.000000  26640.000000  26631.000000   \n",
       "mean       3.031012    7572.888306     11.184929      3.084647      1.624798   \n",
       "std        0.969933    4428.090313      6.788892      0.980690      0.724212   \n",
       "min        1.000000      83.000000      0.000000      0.000000      0.000000   \n",
       "25%        2.000000    4385.000000      6.400000      2.000000      1.000000   \n",
       "50%        3.000000    6763.000000     10.300000      3.000000      2.000000   \n",
       "75%        4.000000   10412.000000     14.000000      4.000000      2.000000   \n",
       "max       16.000000   21650.000000     48.100000     30.000000     12.000000   \n",
       "\n",
       "                Car       Landsize  BuildingArea         Price  \n",
       "count  26129.000000   23047.000000   13742.00000  2.724700e+04  \n",
       "mean       1.728845     593.598993     160.25640  1.050173e+06  \n",
       "std        1.010771    3398.841946     401.26706  6.414671e+05  \n",
       "min        0.000000       0.000000       0.00000  8.500000e+04  \n",
       "25%        1.000000     224.000000     102.00000  6.350000e+05  \n",
       "50%        2.000000     521.000000     136.00000  8.700000e+05  \n",
       "75%        2.000000     670.000000     188.00000  1.295000e+06  \n",
       "max       26.000000  433014.000000   44515.00000  1.120000e+07  "
      ]
     },
     "execution_count": 10,
     "metadata": {},
     "output_type": "execute_result"
    }
   ],
   "source": [
    "df.describe()"
   ]
  },
  {
   "cell_type": "code",
   "execution_count": 11,
   "id": "34ae5578-a850-4bcc-a453-42c52d2750d4",
   "metadata": {},
   "outputs": [
    {
     "data": {
      "text/html": [
       "<div>\n",
       "<style scoped>\n",
       "    .dataframe tbody tr th:only-of-type {\n",
       "        vertical-align: middle;\n",
       "    }\n",
       "\n",
       "    .dataframe tbody tr th {\n",
       "        vertical-align: top;\n",
       "    }\n",
       "\n",
       "    .dataframe thead th {\n",
       "        text-align: right;\n",
       "    }\n",
       "</style>\n",
       "<table border=\"1\" class=\"dataframe\">\n",
       "  <thead>\n",
       "    <tr style=\"text-align: right;\">\n",
       "      <th></th>\n",
       "      <th>Rooms</th>\n",
       "      <th>Propertycount</th>\n",
       "      <th>Distance</th>\n",
       "      <th>Bedroom2</th>\n",
       "      <th>Bathroom</th>\n",
       "      <th>Car</th>\n",
       "      <th>Landsize</th>\n",
       "      <th>BuildingArea</th>\n",
       "      <th>Price</th>\n",
       "    </tr>\n",
       "  </thead>\n",
       "  <tbody>\n",
       "    <tr>\n",
       "      <th>Rooms</th>\n",
       "      <td>1.000000</td>\n",
       "      <td>-0.071677</td>\n",
       "      <td>0.271511</td>\n",
       "      <td>0.946755</td>\n",
       "      <td>0.611826</td>\n",
       "      <td>0.393878</td>\n",
       "      <td>0.037402</td>\n",
       "      <td>0.156229</td>\n",
       "      <td>0.465238</td>\n",
       "    </tr>\n",
       "    <tr>\n",
       "      <th>Propertycount</th>\n",
       "      <td>-0.071677</td>\n",
       "      <td>1.000000</td>\n",
       "      <td>-0.018140</td>\n",
       "      <td>-0.053451</td>\n",
       "      <td>-0.032887</td>\n",
       "      <td>-0.009617</td>\n",
       "      <td>-0.018195</td>\n",
       "      <td>-0.024523</td>\n",
       "      <td>-0.059017</td>\n",
       "    </tr>\n",
       "    <tr>\n",
       "      <th>Distance</th>\n",
       "      <td>0.271511</td>\n",
       "      <td>-0.018140</td>\n",
       "      <td>1.000000</td>\n",
       "      <td>0.269524</td>\n",
       "      <td>0.126201</td>\n",
       "      <td>0.241835</td>\n",
       "      <td>0.060862</td>\n",
       "      <td>0.076301</td>\n",
       "      <td>-0.211384</td>\n",
       "    </tr>\n",
       "    <tr>\n",
       "      <th>Bedroom2</th>\n",
       "      <td>0.946755</td>\n",
       "      <td>-0.053451</td>\n",
       "      <td>0.269524</td>\n",
       "      <td>1.000000</td>\n",
       "      <td>0.614892</td>\n",
       "      <td>0.388491</td>\n",
       "      <td>0.037019</td>\n",
       "      <td>0.154157</td>\n",
       "      <td>0.430275</td>\n",
       "    </tr>\n",
       "    <tr>\n",
       "      <th>Bathroom</th>\n",
       "      <td>0.611826</td>\n",
       "      <td>-0.032887</td>\n",
       "      <td>0.126201</td>\n",
       "      <td>0.614892</td>\n",
       "      <td>1.000000</td>\n",
       "      <td>0.307518</td>\n",
       "      <td>0.036333</td>\n",
       "      <td>0.147558</td>\n",
       "      <td>0.429878</td>\n",
       "    </tr>\n",
       "    <tr>\n",
       "      <th>Car</th>\n",
       "      <td>0.393878</td>\n",
       "      <td>-0.009617</td>\n",
       "      <td>0.241835</td>\n",
       "      <td>0.388491</td>\n",
       "      <td>0.307518</td>\n",
       "      <td>1.000000</td>\n",
       "      <td>0.037829</td>\n",
       "      <td>0.104373</td>\n",
       "      <td>0.201803</td>\n",
       "    </tr>\n",
       "    <tr>\n",
       "      <th>Landsize</th>\n",
       "      <td>0.037402</td>\n",
       "      <td>-0.018195</td>\n",
       "      <td>0.060862</td>\n",
       "      <td>0.037019</td>\n",
       "      <td>0.036333</td>\n",
       "      <td>0.037829</td>\n",
       "      <td>1.000000</td>\n",
       "      <td>0.354530</td>\n",
       "      <td>0.032748</td>\n",
       "    </tr>\n",
       "    <tr>\n",
       "      <th>BuildingArea</th>\n",
       "      <td>0.156229</td>\n",
       "      <td>-0.024523</td>\n",
       "      <td>0.076301</td>\n",
       "      <td>0.154157</td>\n",
       "      <td>0.147558</td>\n",
       "      <td>0.104373</td>\n",
       "      <td>0.354530</td>\n",
       "      <td>1.000000</td>\n",
       "      <td>0.100754</td>\n",
       "    </tr>\n",
       "    <tr>\n",
       "      <th>Price</th>\n",
       "      <td>0.465238</td>\n",
       "      <td>-0.059017</td>\n",
       "      <td>-0.211384</td>\n",
       "      <td>0.430275</td>\n",
       "      <td>0.429878</td>\n",
       "      <td>0.201803</td>\n",
       "      <td>0.032748</td>\n",
       "      <td>0.100754</td>\n",
       "      <td>1.000000</td>\n",
       "    </tr>\n",
       "  </tbody>\n",
       "</table>\n",
       "</div>"
      ],
      "text/plain": [
       "                  Rooms  Propertycount  Distance  Bedroom2  Bathroom  \\\n",
       "Rooms          1.000000      -0.071677  0.271511  0.946755  0.611826   \n",
       "Propertycount -0.071677       1.000000 -0.018140 -0.053451 -0.032887   \n",
       "Distance       0.271511      -0.018140  1.000000  0.269524  0.126201   \n",
       "Bedroom2       0.946755      -0.053451  0.269524  1.000000  0.614892   \n",
       "Bathroom       0.611826      -0.032887  0.126201  0.614892  1.000000   \n",
       "Car            0.393878      -0.009617  0.241835  0.388491  0.307518   \n",
       "Landsize       0.037402      -0.018195  0.060862  0.037019  0.036333   \n",
       "BuildingArea   0.156229      -0.024523  0.076301  0.154157  0.147558   \n",
       "Price          0.465238      -0.059017 -0.211384  0.430275  0.429878   \n",
       "\n",
       "                    Car  Landsize  BuildingArea     Price  \n",
       "Rooms          0.393878  0.037402      0.156229  0.465238  \n",
       "Propertycount -0.009617 -0.018195     -0.024523 -0.059017  \n",
       "Distance       0.241835  0.060862      0.076301 -0.211384  \n",
       "Bedroom2       0.388491  0.037019      0.154157  0.430275  \n",
       "Bathroom       0.307518  0.036333      0.147558  0.429878  \n",
       "Car            1.000000  0.037829      0.104373  0.201803  \n",
       "Landsize       0.037829  1.000000      0.354530  0.032748  \n",
       "BuildingArea   0.104373  0.354530      1.000000  0.100754  \n",
       "Price          0.201803  0.032748      0.100754  1.000000  "
      ]
     },
     "execution_count": 11,
     "metadata": {},
     "output_type": "execute_result"
    }
   ],
   "source": [
    "df.corr()"
   ]
  },
  {
   "cell_type": "code",
   "execution_count": 12,
   "id": "6c3ca91d-7c03-471f-9abd-4b32d79bc745",
   "metadata": {},
   "outputs": [
    {
     "data": {
      "text/plain": [
       "Suburb               0\n",
       "Rooms                0\n",
       "Type                 0\n",
       "Method               0\n",
       "SellerG              0\n",
       "Regionname           3\n",
       "Propertycount        3\n",
       "Distance             1\n",
       "CouncilArea          3\n",
       "Bedroom2          8217\n",
       "Bathroom          8226\n",
       "Car               8728\n",
       "Landsize         11810\n",
       "BuildingArea     21115\n",
       "Price             7610\n",
       "dtype: int64"
      ]
     },
     "execution_count": 12,
     "metadata": {},
     "output_type": "execute_result"
    }
   ],
   "source": [
    "df.isnull().sum()"
   ]
  },
  {
   "cell_type": "code",
   "execution_count": 13,
   "id": "2930330d-0403-4ab8-a654-ccae71a59c20",
   "metadata": {},
   "outputs": [],
   "source": [
    "cols_to_fill_zero = ['Propertycount', 'Distance', 'Bedroom2', 'Bathroom', 'Car']\n",
    "df[cols_to_fill_zero] = df[cols_to_fill_zero].fillna(0)"
   ]
  },
  {
   "cell_type": "code",
   "execution_count": 14,
   "id": "ac6c1b25-f2d0-4838-b10e-57809d88489f",
   "metadata": {},
   "outputs": [],
   "source": [
    "df['Landsize']=df['Landsize'].fillna(df['Landsize'].mean())\n",
    "df['BuildingArea']=df['BuildingArea'].fillna(df['BuildingArea'].mean())"
   ]
  },
  {
   "cell_type": "code",
   "execution_count": 15,
   "id": "f541c698-1c67-4f51-854f-9e9761801d46",
   "metadata": {},
   "outputs": [],
   "source": [
    "df.dropna(inplace=True)"
   ]
  },
  {
   "cell_type": "code",
   "execution_count": 16,
   "id": "bd54e38c-bc80-4573-9a94-d894b4c1c814",
   "metadata": {},
   "outputs": [
    {
     "data": {
      "text/html": [
       "<div>\n",
       "<style scoped>\n",
       "    .dataframe tbody tr th:only-of-type {\n",
       "        vertical-align: middle;\n",
       "    }\n",
       "\n",
       "    .dataframe tbody tr th {\n",
       "        vertical-align: top;\n",
       "    }\n",
       "\n",
       "    .dataframe thead th {\n",
       "        text-align: right;\n",
       "    }\n",
       "</style>\n",
       "<table border=\"1\" class=\"dataframe\">\n",
       "  <thead>\n",
       "    <tr style=\"text-align: right;\">\n",
       "      <th></th>\n",
       "      <th>Suburb</th>\n",
       "      <th>Rooms</th>\n",
       "      <th>Type</th>\n",
       "      <th>Method</th>\n",
       "      <th>SellerG</th>\n",
       "      <th>Regionname</th>\n",
       "      <th>Propertycount</th>\n",
       "      <th>Distance</th>\n",
       "      <th>CouncilArea</th>\n",
       "      <th>Bedroom2</th>\n",
       "      <th>Bathroom</th>\n",
       "      <th>Car</th>\n",
       "      <th>Landsize</th>\n",
       "      <th>BuildingArea</th>\n",
       "      <th>Price</th>\n",
       "    </tr>\n",
       "  </thead>\n",
       "  <tbody>\n",
       "    <tr>\n",
       "      <th>34852</th>\n",
       "      <td>Yarraville</td>\n",
       "      <td>4</td>\n",
       "      <td>h</td>\n",
       "      <td>PI</td>\n",
       "      <td>Jas</td>\n",
       "      <td>Western Metropolitan</td>\n",
       "      <td>6543.0</td>\n",
       "      <td>6.3</td>\n",
       "      <td>Maribyrnong City Council</td>\n",
       "      <td>4.0</td>\n",
       "      <td>1.0</td>\n",
       "      <td>3.0</td>\n",
       "      <td>593.000000</td>\n",
       "      <td>160.2564</td>\n",
       "      <td>1480000.0</td>\n",
       "    </tr>\n",
       "    <tr>\n",
       "      <th>34853</th>\n",
       "      <td>Yarraville</td>\n",
       "      <td>2</td>\n",
       "      <td>h</td>\n",
       "      <td>SP</td>\n",
       "      <td>Sweeney</td>\n",
       "      <td>Western Metropolitan</td>\n",
       "      <td>6543.0</td>\n",
       "      <td>6.3</td>\n",
       "      <td>Maribyrnong City Council</td>\n",
       "      <td>2.0</td>\n",
       "      <td>2.0</td>\n",
       "      <td>1.0</td>\n",
       "      <td>98.000000</td>\n",
       "      <td>104.0000</td>\n",
       "      <td>888000.0</td>\n",
       "    </tr>\n",
       "    <tr>\n",
       "      <th>34854</th>\n",
       "      <td>Yarraville</td>\n",
       "      <td>2</td>\n",
       "      <td>t</td>\n",
       "      <td>S</td>\n",
       "      <td>Jas</td>\n",
       "      <td>Western Metropolitan</td>\n",
       "      <td>6543.0</td>\n",
       "      <td>6.3</td>\n",
       "      <td>Maribyrnong City Council</td>\n",
       "      <td>2.0</td>\n",
       "      <td>1.0</td>\n",
       "      <td>2.0</td>\n",
       "      <td>220.000000</td>\n",
       "      <td>120.0000</td>\n",
       "      <td>705000.0</td>\n",
       "    </tr>\n",
       "    <tr>\n",
       "      <th>34855</th>\n",
       "      <td>Yarraville</td>\n",
       "      <td>3</td>\n",
       "      <td>h</td>\n",
       "      <td>SP</td>\n",
       "      <td>hockingstuart</td>\n",
       "      <td>Western Metropolitan</td>\n",
       "      <td>6543.0</td>\n",
       "      <td>6.3</td>\n",
       "      <td>Maribyrnong City Council</td>\n",
       "      <td>0.0</td>\n",
       "      <td>0.0</td>\n",
       "      <td>0.0</td>\n",
       "      <td>593.598993</td>\n",
       "      <td>160.2564</td>\n",
       "      <td>1140000.0</td>\n",
       "    </tr>\n",
       "    <tr>\n",
       "      <th>34856</th>\n",
       "      <td>Yarraville</td>\n",
       "      <td>2</td>\n",
       "      <td>h</td>\n",
       "      <td>PI</td>\n",
       "      <td>RW</td>\n",
       "      <td>Western Metropolitan</td>\n",
       "      <td>6543.0</td>\n",
       "      <td>6.3</td>\n",
       "      <td>Maribyrnong City Council</td>\n",
       "      <td>2.0</td>\n",
       "      <td>1.0</td>\n",
       "      <td>0.0</td>\n",
       "      <td>250.000000</td>\n",
       "      <td>103.0000</td>\n",
       "      <td>1020000.0</td>\n",
       "    </tr>\n",
       "  </tbody>\n",
       "</table>\n",
       "</div>"
      ],
      "text/plain": [
       "           Suburb  Rooms Type Method        SellerG            Regionname  \\\n",
       "34852  Yarraville      4    h     PI            Jas  Western Metropolitan   \n",
       "34853  Yarraville      2    h     SP        Sweeney  Western Metropolitan   \n",
       "34854  Yarraville      2    t      S            Jas  Western Metropolitan   \n",
       "34855  Yarraville      3    h     SP  hockingstuart  Western Metropolitan   \n",
       "34856  Yarraville      2    h     PI             RW  Western Metropolitan   \n",
       "\n",
       "       Propertycount  Distance               CouncilArea  Bedroom2  Bathroom  \\\n",
       "34852         6543.0       6.3  Maribyrnong City Council       4.0       1.0   \n",
       "34853         6543.0       6.3  Maribyrnong City Council       2.0       2.0   \n",
       "34854         6543.0       6.3  Maribyrnong City Council       2.0       1.0   \n",
       "34855         6543.0       6.3  Maribyrnong City Council       0.0       0.0   \n",
       "34856         6543.0       6.3  Maribyrnong City Council       2.0       1.0   \n",
       "\n",
       "       Car    Landsize  BuildingArea      Price  \n",
       "34852  3.0  593.000000      160.2564  1480000.0  \n",
       "34853  1.0   98.000000      104.0000   888000.0  \n",
       "34854  2.0  220.000000      120.0000   705000.0  \n",
       "34855  0.0  593.598993      160.2564  1140000.0  \n",
       "34856  0.0  250.000000      103.0000  1020000.0  "
      ]
     },
     "execution_count": 16,
     "metadata": {},
     "output_type": "execute_result"
    }
   ],
   "source": [
    "df.tail()"
   ]
  },
  {
   "cell_type": "code",
   "execution_count": 17,
   "id": "65551388-104c-44a2-adbb-b6588a679652",
   "metadata": {},
   "outputs": [
    {
     "data": {
      "text/plain": [
       "Suburb           0\n",
       "Rooms            0\n",
       "Type             0\n",
       "Method           0\n",
       "SellerG          0\n",
       "Regionname       0\n",
       "Propertycount    0\n",
       "Distance         0\n",
       "CouncilArea      0\n",
       "Bedroom2         0\n",
       "Bathroom         0\n",
       "Car              0\n",
       "Landsize         0\n",
       "BuildingArea     0\n",
       "Price            0\n",
       "dtype: int64"
      ]
     },
     "execution_count": 17,
     "metadata": {},
     "output_type": "execute_result"
    }
   ],
   "source": [
    "df.isna().sum()"
   ]
  },
  {
   "cell_type": "code",
   "execution_count": 18,
   "id": "93f761ab-d7e8-43c0-9a1c-6afb0a409d15",
   "metadata": {},
   "outputs": [
    {
     "name": "stderr",
     "output_type": "stream",
     "text": [
      "C:\\Users\\ervai\\anaconda3\\lib\\site-packages\\seaborn\\_decorators.py:36: FutureWarning: Pass the following variable as a keyword arg: x. From version 0.12, the only valid positional argument will be `data`, and passing other arguments without an explicit keyword will result in an error or misinterpretation.\n",
      "  warnings.warn(\n"
     ]
    },
    {
     "data": {
      "image/png": "[encoded data removed]",
      "text/plain": [
       "<Figure size 432x288 with 1 Axes>"
      ]
     },
     "metadata": {
      "needs_background": "light"
     },
     "output_type": "display_data"
    }
   ],
   "source": [
    "import seaborn as sns\n",
    "sns.boxplot(df['Landsize'],orient='h');"
   ]
  },
  {
   "cell_type": "code",
   "execution_count": 19,
   "id": "2e90fd2b-064a-45de-afef-9b9637e7d96b",
   "metadata": {},
   "outputs": [
    {
     "data": {
      "text/html": [
       "<div>\n",
       "<style scoped>\n",
       "    .dataframe tbody tr th:only-of-type {\n",
       "        vertical-align: middle;\n",
       "    }\n",
       "\n",
       "    .dataframe tbody tr th {\n",
       "        vertical-align: top;\n",
       "    }\n",
       "\n",
       "    .dataframe thead th {\n",
       "        text-align: right;\n",
       "    }\n",
       "</style>\n",
       "<table border=\"1\" class=\"dataframe\">\n",
       "  <thead>\n",
       "    <tr style=\"text-align: right;\">\n",
       "      <th></th>\n",
       "      <th>Rooms</th>\n",
       "      <th>Propertycount</th>\n",
       "      <th>Distance</th>\n",
       "      <th>Bedroom2</th>\n",
       "      <th>Bathroom</th>\n",
       "      <th>Car</th>\n",
       "      <th>Landsize</th>\n",
       "      <th>BuildingArea</th>\n",
       "      <th>Price</th>\n",
       "    </tr>\n",
       "  </thead>\n",
       "  <tbody>\n",
       "    <tr>\n",
       "      <th>Rooms</th>\n",
       "      <td>1.000000</td>\n",
       "      <td>-0.079572</td>\n",
       "      <td>0.284260</td>\n",
       "      <td>0.558408</td>\n",
       "      <td>0.448790</td>\n",
       "      <td>0.342667</td>\n",
       "      <td>0.027477</td>\n",
       "      <td>0.086560</td>\n",
       "      <td>0.465231</td>\n",
       "    </tr>\n",
       "    <tr>\n",
       "      <th>Propertycount</th>\n",
       "      <td>-0.079572</td>\n",
       "      <td>1.000000</td>\n",
       "      <td>-0.021705</td>\n",
       "      <td>-0.049639</td>\n",
       "      <td>-0.042507</td>\n",
       "      <td>-0.024135</td>\n",
       "      <td>-0.013485</td>\n",
       "      <td>-0.016039</td>\n",
       "      <td>-0.059017</td>\n",
       "    </tr>\n",
       "    <tr>\n",
       "      <th>Distance</th>\n",
       "      <td>0.284260</td>\n",
       "      <td>-0.021705</td>\n",
       "      <td>1.000000</td>\n",
       "      <td>0.157659</td>\n",
       "      <td>0.103052</td>\n",
       "      <td>0.189324</td>\n",
       "      <td>0.044124</td>\n",
       "      <td>0.050289</td>\n",
       "      <td>-0.211415</td>\n",
       "    </tr>\n",
       "    <tr>\n",
       "      <th>Bedroom2</th>\n",
       "      <td>0.558408</td>\n",
       "      <td>-0.049639</td>\n",
       "      <td>0.157659</td>\n",
       "      <td>1.000000</td>\n",
       "      <td>0.842662</td>\n",
       "      <td>0.692635</td>\n",
       "      <td>0.017225</td>\n",
       "      <td>0.051179</td>\n",
       "      <td>0.301524</td>\n",
       "    </tr>\n",
       "    <tr>\n",
       "      <th>Bathroom</th>\n",
       "      <td>0.448790</td>\n",
       "      <td>-0.042507</td>\n",
       "      <td>0.103052</td>\n",
       "      <td>0.842662</td>\n",
       "      <td>1.000000</td>\n",
       "      <td>0.627156</td>\n",
       "      <td>0.023527</td>\n",
       "      <td>0.061372</td>\n",
       "      <td>0.339020</td>\n",
       "    </tr>\n",
       "    <tr>\n",
       "      <th>Car</th>\n",
       "      <td>0.342667</td>\n",
       "      <td>-0.024135</td>\n",
       "      <td>0.189324</td>\n",
       "      <td>0.692635</td>\n",
       "      <td>0.627156</td>\n",
       "      <td>1.000000</td>\n",
       "      <td>0.022484</td>\n",
       "      <td>0.049306</td>\n",
       "      <td>0.201809</td>\n",
       "    </tr>\n",
       "    <tr>\n",
       "      <th>Landsize</th>\n",
       "      <td>0.027477</td>\n",
       "      <td>-0.013485</td>\n",
       "      <td>0.044124</td>\n",
       "      <td>0.017225</td>\n",
       "      <td>0.023527</td>\n",
       "      <td>0.022484</td>\n",
       "      <td>1.000000</td>\n",
       "      <td>0.087274</td>\n",
       "      <td>0.027099</td>\n",
       "    </tr>\n",
       "    <tr>\n",
       "      <th>BuildingArea</th>\n",
       "      <td>0.086560</td>\n",
       "      <td>-0.016039</td>\n",
       "      <td>0.050289</td>\n",
       "      <td>0.051179</td>\n",
       "      <td>0.061372</td>\n",
       "      <td>0.049306</td>\n",
       "      <td>0.087274</td>\n",
       "      <td>1.000000</td>\n",
       "      <td>0.066240</td>\n",
       "    </tr>\n",
       "    <tr>\n",
       "      <th>Price</th>\n",
       "      <td>0.465231</td>\n",
       "      <td>-0.059017</td>\n",
       "      <td>-0.211415</td>\n",
       "      <td>0.301524</td>\n",
       "      <td>0.339020</td>\n",
       "      <td>0.201809</td>\n",
       "      <td>0.027099</td>\n",
       "      <td>0.066240</td>\n",
       "      <td>1.000000</td>\n",
       "    </tr>\n",
       "  </tbody>\n",
       "</table>\n",
       "</div>"
      ],
      "text/plain": [
       "                  Rooms  Propertycount  Distance  Bedroom2  Bathroom  \\\n",
       "Rooms          1.000000      -0.079572  0.284260  0.558408  0.448790   \n",
       "Propertycount -0.079572       1.000000 -0.021705 -0.049639 -0.042507   \n",
       "Distance       0.284260      -0.021705  1.000000  0.157659  0.103052   \n",
       "Bedroom2       0.558408      -0.049639  0.157659  1.000000  0.842662   \n",
       "Bathroom       0.448790      -0.042507  0.103052  0.842662  1.000000   \n",
       "Car            0.342667      -0.024135  0.189324  0.692635  0.627156   \n",
       "Landsize       0.027477      -0.013485  0.044124  0.017225  0.023527   \n",
       "BuildingArea   0.086560      -0.016039  0.050289  0.051179  0.061372   \n",
       "Price          0.465231      -0.059017 -0.211415  0.301524  0.339020   \n",
       "\n",
       "                    Car  Landsize  BuildingArea     Price  \n",
       "Rooms          0.342667  0.027477      0.086560  0.465231  \n",
       "Propertycount -0.024135 -0.013485     -0.016039 -0.059017  \n",
       "Distance       0.189324  0.044124      0.050289 -0.211415  \n",
       "Bedroom2       0.692635  0.017225      0.051179  0.301524  \n",
       "Bathroom       0.627156  0.023527      0.061372  0.339020  \n",
       "Car            1.000000  0.022484      0.049306  0.201809  \n",
       "Landsize       0.022484  1.000000      0.087274  0.027099  \n",
       "BuildingArea   0.049306  0.087274      1.000000  0.066240  \n",
       "Price          0.201809  0.027099      0.066240  1.000000  "
      ]
     },
     "execution_count": 19,
     "metadata": {},
     "output_type": "execute_result"
    }
   ],
   "source": [
    "df.corr()"
   ]
  },
  {
   "cell_type": "code",
   "execution_count": 20,
   "id": "e714df34-c926-44ca-850c-0bc2d20d7a3d",
   "metadata": {},
   "outputs": [],
   "source": [
    "for colname,colvals in df.iteritems():\n",
    "    if df[colname].dtype!=object and colname!='Price':\n",
    "        Q1=df[colname].quantile(q=0.25)\n",
    "        Q3=df[colname].quantile(q=0.75)\n",
    "        IQR=Q3-Q1\n",
    "        low=Q1-(1.5*IQR)\n",
    "        up=Q3+(1.5*IQR)\n",
    "        df.loc[(df[colname]<low) | (df[colname]>up) ,colname]=df[colname].median()\n",
    "    else:\n",
    "        continue"
   ]
  },
  {
   "cell_type": "code",
   "execution_count": 21,
   "id": "c3071ab3-29f6-4916-b2c1-8da79c601822",
   "metadata": {},
   "outputs": [
    {
     "name": "stderr",
     "output_type": "stream",
     "text": [
      "C:\\Users\\ervai\\anaconda3\\lib\\site-packages\\seaborn\\_decorators.py:36: FutureWarning: Pass the following variable as a keyword arg: x. From version 0.12, the only valid positional argument will be `data`, and passing other arguments without an explicit keyword will result in an error or misinterpretation.\n",
      "  warnings.warn(\n"
     ]
    },
    {
     "data": {
      "image/png": "[encoded data removed]",
      "text/plain": [
       "<Figure size 432x288 with 1 Axes>"
      ]
     },
     "metadata": {
      "needs_background": "light"
     },
     "output_type": "display_data"
    }
   ],
   "source": [
    "sns.boxplot(df['Bathroom']);"
   ]
  },
  {
   "cell_type": "code",
   "execution_count": 22,
   "id": "65b201f5-7bb7-44d5-9522-25c378a83b4d",
   "metadata": {},
   "outputs": [
    {
     "name": "stderr",
     "output_type": "stream",
     "text": [
      "C:\\Users\\ervai\\anaconda3\\lib\\site-packages\\seaborn\\_decorators.py:36: FutureWarning: Pass the following variable as a keyword arg: x. From version 0.12, the only valid positional argument will be `data`, and passing other arguments without an explicit keyword will result in an error or misinterpretation.\n",
      "  warnings.warn(\n"
     ]
    },
    {
     "data": {
      "image/png": "[encoded data removed]",
      "text/plain": [
       "<Figure size 432x288 with 1 Axes>"
      ]
     },
     "metadata": {
      "needs_background": "light"
     },
     "output_type": "display_data"
    }
   ],
   "source": [
    "sns.boxplot(df['Landsize'],orient='h');"
   ]
  },
  {
   "cell_type": "code",
   "execution_count": 23,
   "id": "3e847dc5-a365-4080-8c3d-b07d0f6f8437",
   "metadata": {},
   "outputs": [
    {
     "data": {
      "text/html": [
       "<div>\n",
       "<style scoped>\n",
       "    .dataframe tbody tr th:only-of-type {\n",
       "        vertical-align: middle;\n",
       "    }\n",
       "\n",
       "    .dataframe tbody tr th {\n",
       "        vertical-align: top;\n",
       "    }\n",
       "\n",
       "    .dataframe thead th {\n",
       "        text-align: right;\n",
       "    }\n",
       "</style>\n",
       "<table border=\"1\" class=\"dataframe\">\n",
       "  <thead>\n",
       "    <tr style=\"text-align: right;\">\n",
       "      <th></th>\n",
       "      <th>Rooms</th>\n",
       "      <th>Propertycount</th>\n",
       "      <th>Distance</th>\n",
       "      <th>Bedroom2</th>\n",
       "      <th>Bathroom</th>\n",
       "      <th>Car</th>\n",
       "      <th>Landsize</th>\n",
       "      <th>BuildingArea</th>\n",
       "      <th>Price</th>\n",
       "      <th>Suburb_Aberfeldie</th>\n",
       "      <th>...</th>\n",
       "      <th>CouncilArea_Moorabool Shire Council</th>\n",
       "      <th>CouncilArea_Moreland City Council</th>\n",
       "      <th>CouncilArea_Nillumbik Shire Council</th>\n",
       "      <th>CouncilArea_Port Phillip City Council</th>\n",
       "      <th>CouncilArea_Stonnington City Council</th>\n",
       "      <th>CouncilArea_Whitehorse City Council</th>\n",
       "      <th>CouncilArea_Whittlesea City Council</th>\n",
       "      <th>CouncilArea_Wyndham City Council</th>\n",
       "      <th>CouncilArea_Yarra City Council</th>\n",
       "      <th>CouncilArea_Yarra Ranges Shire Council</th>\n",
       "    </tr>\n",
       "  </thead>\n",
       "  <tbody>\n",
       "    <tr>\n",
       "      <th>1</th>\n",
       "      <td>2</td>\n",
       "      <td>4019.0</td>\n",
       "      <td>2.5</td>\n",
       "      <td>2.0</td>\n",
       "      <td>1.0</td>\n",
       "      <td>1.0</td>\n",
       "      <td>202.0</td>\n",
       "      <td>160.2564</td>\n",
       "      <td>1480000.0</td>\n",
       "      <td>0</td>\n",
       "      <td>...</td>\n",
       "      <td>0</td>\n",
       "      <td>0</td>\n",
       "      <td>0</td>\n",
       "      <td>0</td>\n",
       "      <td>0</td>\n",
       "      <td>0</td>\n",
       "      <td>0</td>\n",
       "      <td>0</td>\n",
       "      <td>1</td>\n",
       "      <td>0</td>\n",
       "    </tr>\n",
       "    <tr>\n",
       "      <th>2</th>\n",
       "      <td>2</td>\n",
       "      <td>4019.0</td>\n",
       "      <td>2.5</td>\n",
       "      <td>2.0</td>\n",
       "      <td>1.0</td>\n",
       "      <td>0.0</td>\n",
       "      <td>156.0</td>\n",
       "      <td>160.2564</td>\n",
       "      <td>1035000.0</td>\n",
       "      <td>0</td>\n",
       "      <td>...</td>\n",
       "      <td>0</td>\n",
       "      <td>0</td>\n",
       "      <td>0</td>\n",
       "      <td>0</td>\n",
       "      <td>0</td>\n",
       "      <td>0</td>\n",
       "      <td>0</td>\n",
       "      <td>0</td>\n",
       "      <td>1</td>\n",
       "      <td>0</td>\n",
       "    </tr>\n",
       "    <tr>\n",
       "      <th>4</th>\n",
       "      <td>3</td>\n",
       "      <td>4019.0</td>\n",
       "      <td>2.5</td>\n",
       "      <td>3.0</td>\n",
       "      <td>2.0</td>\n",
       "      <td>0.0</td>\n",
       "      <td>134.0</td>\n",
       "      <td>150.0000</td>\n",
       "      <td>1465000.0</td>\n",
       "      <td>0</td>\n",
       "      <td>...</td>\n",
       "      <td>0</td>\n",
       "      <td>0</td>\n",
       "      <td>0</td>\n",
       "      <td>0</td>\n",
       "      <td>0</td>\n",
       "      <td>0</td>\n",
       "      <td>0</td>\n",
       "      <td>0</td>\n",
       "      <td>1</td>\n",
       "      <td>0</td>\n",
       "    </tr>\n",
       "    <tr>\n",
       "      <th>5</th>\n",
       "      <td>3</td>\n",
       "      <td>4019.0</td>\n",
       "      <td>2.5</td>\n",
       "      <td>3.0</td>\n",
       "      <td>2.0</td>\n",
       "      <td>1.0</td>\n",
       "      <td>94.0</td>\n",
       "      <td>160.2564</td>\n",
       "      <td>850000.0</td>\n",
       "      <td>0</td>\n",
       "      <td>...</td>\n",
       "      <td>0</td>\n",
       "      <td>0</td>\n",
       "      <td>0</td>\n",
       "      <td>0</td>\n",
       "      <td>0</td>\n",
       "      <td>0</td>\n",
       "      <td>0</td>\n",
       "      <td>0</td>\n",
       "      <td>1</td>\n",
       "      <td>0</td>\n",
       "    </tr>\n",
       "    <tr>\n",
       "      <th>6</th>\n",
       "      <td>4</td>\n",
       "      <td>4019.0</td>\n",
       "      <td>2.5</td>\n",
       "      <td>3.0</td>\n",
       "      <td>1.0</td>\n",
       "      <td>2.0</td>\n",
       "      <td>120.0</td>\n",
       "      <td>160.2564</td>\n",
       "      <td>1600000.0</td>\n",
       "      <td>0</td>\n",
       "      <td>...</td>\n",
       "      <td>0</td>\n",
       "      <td>0</td>\n",
       "      <td>0</td>\n",
       "      <td>0</td>\n",
       "      <td>0</td>\n",
       "      <td>0</td>\n",
       "      <td>0</td>\n",
       "      <td>0</td>\n",
       "      <td>1</td>\n",
       "      <td>0</td>\n",
       "    </tr>\n",
       "  </tbody>\n",
       "</table>\n",
       "<p>5 rows × 745 columns</p>\n",
       "</div>"
      ],
      "text/plain": [
       "   Rooms  Propertycount  Distance  Bedroom2  Bathroom  Car  Landsize  \\\n",
       "1      2         4019.0       2.5       2.0       1.0  1.0     202.0   \n",
       "2      2         4019.0       2.5       2.0       1.0  0.0     156.0   \n",
       "4      3         4019.0       2.5       3.0       2.0  0.0     134.0   \n",
       "5      3         4019.0       2.5       3.0       2.0  1.0      94.0   \n",
       "6      4         4019.0       2.5       3.0       1.0  2.0     120.0   \n",
       "\n",
       "   BuildingArea      Price  Suburb_Aberfeldie  ...  \\\n",
       "1      160.2564  1480000.0                  0  ...   \n",
       "2      160.2564  1035000.0                  0  ...   \n",
       "4      150.0000  1465000.0                  0  ...   \n",
       "5      160.2564   850000.0                  0  ...   \n",
       "6      160.2564  1600000.0                  0  ...   \n",
       "\n",
       "   CouncilArea_Moorabool Shire Council  CouncilArea_Moreland City Council  \\\n",
       "1                                    0                                  0   \n",
       "2                                    0                                  0   \n",
       "4                                    0                                  0   \n",
       "5                                    0                                  0   \n",
       "6                                    0                                  0   \n",
       "\n",
       "   CouncilArea_Nillumbik Shire Council  CouncilArea_Port Phillip City Council  \\\n",
       "1                                    0                                      0   \n",
       "2                                    0                                      0   \n",
       "4                                    0                                      0   \n",
       "5                                    0                                      0   \n",
       "6                                    0                                      0   \n",
       "\n",
       "   CouncilArea_Stonnington City Council  CouncilArea_Whitehorse City Council  \\\n",
       "1                                     0                                    0   \n",
       "2                                     0                                    0   \n",
       "4                                     0                                    0   \n",
       "5                                     0                                    0   \n",
       "6                                     0                                    0   \n",
       "\n",
       "   CouncilArea_Whittlesea City Council  CouncilArea_Wyndham City Council  \\\n",
       "1                                    0                                 0   \n",
       "2                                    0                                 0   \n",
       "4                                    0                                 0   \n",
       "5                                    0                                 0   \n",
       "6                                    0                                 0   \n",
       "\n",
       "   CouncilArea_Yarra City Council  CouncilArea_Yarra Ranges Shire Council  \n",
       "1                               1                                       0  \n",
       "2                               1                                       0  \n",
       "4                               1                                       0  \n",
       "5                               1                                       0  \n",
       "6                               1                                       0  \n",
       "\n",
       "[5 rows x 745 columns]"
      ]
     },
     "execution_count": 23,
     "metadata": {},
     "output_type": "execute_result"
    }
   ],
   "source": [
    "df=pd.get_dummies(df,drop_first=True)\n",
    "df.head()"
   ]
  },
  {
   "cell_type": "code",
   "execution_count": 24,
   "id": "78887e8e-c16f-4306-9b1d-36e4d23bb61b",
   "metadata": {},
   "outputs": [
    {
     "data": {
      "text/plain": [
       "(27244, 745)"
      ]
     },
     "execution_count": 24,
     "metadata": {},
     "output_type": "execute_result"
    }
   ],
   "source": [
    "df.shape"
   ]
  },
  {
   "cell_type": "code",
   "execution_count": 25,
   "id": "d3e7a1d3-1e38-4ef7-b206-a4fcca0a1eff",
   "metadata": {},
   "outputs": [],
   "source": [
    "#linear regression"
   ]
  },
  {
   "cell_type": "code",
   "execution_count": 26,
   "id": "af34921f-2586-420f-863d-04acb47cacaa",
   "metadata": {},
   "outputs": [],
   "source": [
    "x = df[['Rooms']]\n",
    "y = df['Price']"
   ]
  },
  {
   "cell_type": "code",
   "execution_count": 27,
   "id": "9ce60149-0413-45c2-82b1-879f18f4f4d2",
   "metadata": {},
   "outputs": [],
   "source": [
    "from sklearn.model_selection import train_test_split\n",
    "x_train_l,x_test_l,y_train_l,y_test_l = train_test_split(x,y,train_size = 0.8,random_state=42)"
   ]
  },
  {
   "cell_type": "code",
   "execution_count": 28,
   "id": "fe60826b-8a75-47b2-b5c5-58258f11d93d",
   "metadata": {},
   "outputs": [],
   "source": [
    "from sklearn.linear_model import LinearRegression\n",
    "lr = LinearRegression()"
   ]
  },
  {
   "cell_type": "code",
   "execution_count": 29,
   "id": "fad113c8-6241-46c0-9b55-fe17a5d46216",
   "metadata": {},
   "outputs": [
    {
     "data": {
      "text/plain": [
       "LinearRegression()"
      ]
     },
     "execution_count": 29,
     "metadata": {},
     "output_type": "execute_result"
    }
   ],
   "source": [
    "lr.fit(x_train_l,y_train_l)"
   ]
  },
  {
   "cell_type": "code",
   "execution_count": 30,
   "id": "bdf2b97b-b18a-4ec0-8a68-035c21ae947a",
   "metadata": {},
   "outputs": [
    {
     "data": {
      "text/plain": [
       "array([316318.98015217])"
      ]
     },
     "execution_count": 30,
     "metadata": {},
     "output_type": "execute_result"
    }
   ],
   "source": [
    "lr.coef_"
   ]
  },
  {
   "cell_type": "code",
   "execution_count": 31,
   "id": "fde7928b-3172-4e7e-a8e6-9669e9ff8d29",
   "metadata": {},
   "outputs": [
    {
     "data": {
      "text/plain": [
       "104465.86243069137"
      ]
     },
     "execution_count": 31,
     "metadata": {},
     "output_type": "execute_result"
    }
   ],
   "source": [
    "lr.intercept_"
   ]
  },
  {
   "cell_type": "code",
   "execution_count": 32,
   "id": "61670a5d-076a-45f7-aa18-2676f986a4f2",
   "metadata": {},
   "outputs": [
    {
     "name": "stderr",
     "output_type": "stream",
     "text": [
      "C:\\Users\\ervai\\anaconda3\\lib\\site-packages\\seaborn\\_decorators.py:36: FutureWarning: Pass the following variables as keyword args: x, y. From version 0.12, the only valid positional argument will be `data`, and passing other arguments without an explicit keyword will result in an error or misinterpretation.\n",
      "  warnings.warn(\n"
     ]
    },
    {
     "data": {
      "text/plain": [
       "<AxesSubplot:xlabel='Rooms', ylabel='Price'>"
      ]
     },
     "execution_count": 32,
     "metadata": {},
     "output_type": "execute_result"
    },
    {
     "data": {
      "image/png": "[encoded data removed]",
      "text/plain": [
       "<Figure size 864x576 with 1 Axes>"
      ]
     },
     "metadata": {
      "needs_background": "light"
     },
     "output_type": "display_data"
    }
   ],
   "source": [
    "import matplotlib.pyplot as plt\n",
    "plt.figure(figsize=(12,8))\n",
    "sns.regplot(x,y)"
   ]
  },
  {
   "cell_type": "code",
   "execution_count": 33,
   "id": "10344bdf-6b33-44cd-a0c7-1cc3bcfafa74",
   "metadata": {},
   "outputs": [],
   "source": [
    "y_test_pred = lr.predict(x_test_l)\n",
    "y_train_pred = lr.predict(x_train_l)"
   ]
  },
  {
   "cell_type": "code",
   "execution_count": 34,
   "id": "f94ae8cf-b1d4-4fac-a734-09297fae71ed",
   "metadata": {},
   "outputs": [
    {
     "name": "stdout",
     "output_type": "stream",
     "text": [
      "training : 0.21446749854281988 , testing : 0.22096933592564982\n"
     ]
    }
   ],
   "source": [
    "from sklearn.metrics import r2_score\n",
    "training = r2_score(y_train_l,y_train_pred)\n",
    "testing = r2_score(y_test_l,y_test_pred)\n",
    "print(f'training : {training} , testing : {testing}')"
   ]
  },
  {
   "cell_type": "code",
   "execution_count": 36,
   "id": "33a9a6ee-b7cc-4687-b1f1-cc204bcc044f",
   "metadata": {},
   "outputs": [
    {
     "name": "stdout",
     "output_type": "stream",
     "text": [
      "Mean absolute error: 391543.4669192924\n",
      "Mean squared error: 321605990381.9734\n",
      "Root mean squared error: 567103.1567377961\n",
      "R-2: 0.22096933592564982\n"
     ]
    }
   ],
   "source": [
    "import numpy as np\n",
    "from sklearn import metrics\n",
    "print('Mean absolute error:',metrics.mean_absolute_error(y_test_l,y_test_pred))\n",
    "print('Mean squared error:',metrics.mean_squared_error(y_test_l,y_test_pred))\n",
    "print('Root mean squared error:',np.sqrt(metrics.mean_squared_error(y_test_l,y_test_pred)))\n",
    "print('R-2:',metrics.r2_score(y_test_l,y_test_pred))"
   ]
  },
  {
   "cell_type": "code",
   "execution_count": 37,
   "id": "d0e7257e-da2e-4efe-afd5-e4a18b0f8611",
   "metadata": {},
   "outputs": [],
   "source": [
    "# multi regression with standardization"
   ]
  },
  {
   "cell_type": "code",
   "execution_count": 38,
   "id": "24bb246b-cb59-4b35-9110-5be11b1fb2f5",
   "metadata": {},
   "outputs": [],
   "source": [
    "x = df.drop('Price',axis = 1)\n",
    "y = df['Price']"
   ]
  },
  {
   "cell_type": "code",
   "execution_count": 39,
   "id": "eb0c8429-9e6f-49c7-a4a3-bd0025e87991",
   "metadata": {},
   "outputs": [],
   "source": [
    "from sklearn.preprocessing import StandardScaler"
   ]
  },
  {
   "cell_type": "code",
   "execution_count": 40,
   "id": "2df57010-10aa-4799-a4d9-0992e7ccfee5",
   "metadata": {},
   "outputs": [],
   "source": [
    "Scaled = StandardScaler()\n",
    "scaled = Scaled.fit_transform(x)"
   ]
  },
  {
   "cell_type": "code",
   "execution_count": 41,
   "id": "63832e85-4ee9-470e-b3fa-d09e2ce6c724",
   "metadata": {},
   "outputs": [],
   "source": [
    "x_train_s,x_test_s,y_train_s,y_test_s = train_test_split(scaled,y,test_size = 0.2,random_state = 42)"
   ]
  },
  {
   "cell_type": "code",
   "execution_count": 42,
   "id": "fadc96da-b0f6-4bb5-a2ff-b740d49c0342",
   "metadata": {},
   "outputs": [
    {
     "data": {
      "text/plain": [
       "LinearRegression()"
      ]
     },
     "execution_count": 42,
     "metadata": {},
     "output_type": "execute_result"
    }
   ],
   "source": [
    "lr1 = LinearRegression()\n",
    "lr1.fit(x_train_s,y_train_s)"
   ]
  },
  {
   "cell_type": "code",
   "execution_count": 43,
   "id": "447969d3-be34-45eb-8371-99bebaf1ef96",
   "metadata": {},
   "outputs": [],
   "source": [
    "y_train_pred1 = lr1.predict(x_train_s)\n",
    "y_test_pred1 = lr1.predict(x_test_s)"
   ]
  },
  {
   "cell_type": "code",
   "execution_count": 44,
   "id": "779028da-14cc-4469-baac-260bd4607847",
   "metadata": {},
   "outputs": [
    {
     "name": "stdout",
     "output_type": "stream",
     "text": [
      "training : 0.6728308368732105 , testing : -9.92732515613033e+26\n"
     ]
    }
   ],
   "source": [
    "training = r2_score(y_train_s,y_train_pred1)\n",
    "testing = r2_score(y_test_s,y_test_pred1)\n",
    "print(f'training : {training} , testing : {testing}')"
   ]
  },
  {
   "cell_type": "code",
   "execution_count": 45,
   "id": "3e8442e3-96a6-4dad-b872-32ae494f45ee",
   "metadata": {},
   "outputs": [
    {
     "name": "stdout",
     "output_type": "stream",
     "text": [
      "Mean absolute error: 391543.4669192924\n",
      "Mean squared error: 321605990381.9734\n",
      "Root mean squared error: 567103.1567377961\n",
      "R-2: 0.22096933592564982\n"
     ]
    }
   ],
   "source": [
    "import numpy as np\n",
    "from sklearn import metrics\n",
    "print('Mean absolute error:',metrics.mean_absolute_error(y_test_s,y_test_pred))\n",
    "print('Mean squared error:',metrics.mean_squared_error(y_test_s,y_test_pred))\n",
    "print('Root mean squared error:',np.sqrt(metrics.mean_squared_error(y_test_s,y_test_pred)))\n",
    "print('R-2:',metrics.r2_score(y_test_s,y_test_pred))"
   ]
  },
  {
   "cell_type": "code",
   "execution_count": 46,
   "id": "2fb46067-ba49-49dd-9b0a-660e1daa6670",
   "metadata": {},
   "outputs": [],
   "source": [
    "#multi regression withot standardization"
   ]
  },
  {
   "cell_type": "code",
   "execution_count": 47,
   "id": "c53649fe-7064-4c4c-9d59-9572eb65dde3",
   "metadata": {},
   "outputs": [],
   "source": [
    "X = df.drop('Price',axis = 1)\n",
    "y = df['Price']"
   ]
  },
  {
   "cell_type": "code",
   "execution_count": 48,
   "id": "1a85a84d-9d07-45b7-b987-691263786e0d",
   "metadata": {},
   "outputs": [],
   "source": [
    "x_train_w,x_test_w,y_train_w,y_test_w = train_test_split(X,y,train_size=0.8,random_state = 42)"
   ]
  },
  {
   "cell_type": "code",
   "execution_count": 49,
   "id": "ab48ae18-a4c9-4f76-b0ef-9674ea866a47",
   "metadata": {},
   "outputs": [
    {
     "data": {
      "text/plain": [
       "LinearRegression()"
      ]
     },
     "execution_count": 49,
     "metadata": {},
     "output_type": "execute_result"
    }
   ],
   "source": [
    "LR = LinearRegression()\n",
    "LR.fit(x_train_w,y_train_w)"
   ]
  },
  {
   "cell_type": "code",
   "execution_count": 50,
   "id": "f7b1887f-343f-47f7-a6c9-cc74dcadb14f",
   "metadata": {},
   "outputs": [],
   "source": [
    "y_train_pred2=LR.predict(x_train_w)\n",
    "y_test_pred2 = LR.predict(x_test_w)"
   ]
  },
  {
   "cell_type": "code",
   "execution_count": 51,
   "id": "96287518-d072-4396-a36b-7348d2191ad0",
   "metadata": {},
   "outputs": [
    {
     "name": "stdout",
     "output_type": "stream",
     "text": [
      "training : 0.6747280218296119 , testing : 0.6845903534926924\n"
     ]
    }
   ],
   "source": [
    "training1 = r2_score(y_train_w,y_train_pred2)\n",
    "testing1 = r2_score(y_test_w,y_test_pred2)\n",
    "print(f'training : {training1} , testing : {testing1}')"
   ]
  },
  {
   "cell_type": "code",
   "execution_count": 52,
   "id": "5746fffb-54a3-4d00-b36f-448cf99f1b01",
   "metadata": {},
   "outputs": [
    {
     "name": "stdout",
     "output_type": "stream",
     "text": [
      "Mean Absolute Error : 232174.19253450973\n",
      "Mean Square Error: 130210062862.5957\n",
      "Root Mean Square Error:  360846.3147416026\n"
     ]
    }
   ],
   "source": [
    "from sklearn import metrics\n",
    "# 0 means the model is perfect.  Therefore the value should be as close to 0 as possible\n",
    "meanAbErr = metrics.mean_absolute_error(y_test_w, y_test_pred2)\n",
    "meanSqErr = metrics.mean_squared_error(y_test_w, y_test_pred2)\n",
    "rootMeanSqErr = np.sqrt(metrics.mean_squared_error(y_test_w, y_test_pred2))\n",
    "\n",
    "print('Mean Absolute Error :', meanAbErr)\n",
    "print('Mean Square Error:', meanSqErr)\n",
    "print('Root Mean Square Error: ', rootMeanSqErr )"
   ]
  },
  {
   "cell_type": "code",
   "execution_count": 53,
   "id": "6729d1c2-6d4c-4080-a121-d3e222221735",
   "metadata": {},
   "outputs": [],
   "source": [
    "#Regularization L1"
   ]
  },
  {
   "cell_type": "code",
   "execution_count": 54,
   "id": "1d39c1f9-2efc-46ad-bebd-ce2ef3756572",
   "metadata": {},
   "outputs": [
    {
     "name": "stderr",
     "output_type": "stream",
     "text": [
      "C:\\Users\\ervai\\anaconda3\\lib\\site-packages\\sklearn\\linear_model\\_coordinate_descent.py:647: ConvergenceWarning: Objective did not converge. You might want to increase the number of iterations, check the scale of the features or consider increasing regularisation. Duality gap: 1.460e+15, tolerance: 8.961e+11\n",
      "  model = cd_fast.enet_coordinate_descent(\n"
     ]
    },
    {
     "data": {
      "text/plain": [
       "Lasso()"
      ]
     },
     "execution_count": 54,
     "metadata": {},
     "output_type": "execute_result"
    }
   ],
   "source": [
    "from sklearn import linear_model\n",
    "lasso_reg = linear_model.Lasso()\n",
    "lasso_reg.fit(x_train_w, y_train_w)"
   ]
  },
  {
   "cell_type": "code",
   "execution_count": 55,
   "id": "d2b3a4c0-1555-4221-80a4-3c00a998b151",
   "metadata": {},
   "outputs": [
    {
     "data": {
      "text/plain": [
       "0.6747099989468948"
      ]
     },
     "execution_count": 55,
     "metadata": {},
     "output_type": "execute_result"
    }
   ],
   "source": [
    "lasso_reg.score(x_train_w,y_train_w)"
   ]
  },
  {
   "cell_type": "code",
   "execution_count": 56,
   "id": "bffef48d-cfd0-4be8-b695-e7b47777d3e4",
   "metadata": {},
   "outputs": [
    {
     "data": {
      "text/plain": [
       "0.6852116006050664"
      ]
     },
     "execution_count": 56,
     "metadata": {},
     "output_type": "execute_result"
    }
   ],
   "source": [
    "lasso_reg.score(x_test_w,y_test_w)"
   ]
  },
  {
   "cell_type": "code",
   "execution_count": null,
   "id": "9571aebe-d2e2-42d0-ac77-039d919c4efc",
   "metadata": {},
   "outputs": [],
   "source": [
    "#L2 regression"
   ]
  },
  {
   "cell_type": "code",
   "execution_count": 60,
   "id": "f109e558-5352-494e-a278-2711f8b28247",
   "metadata": {},
   "outputs": [
    {
     "data": {
      "text/plain": [
       "Ridge(alpha=50, max_iter=100, tol=0.1)"
      ]
     },
     "execution_count": 60,
     "metadata": {},
     "output_type": "execute_result"
    }
   ],
   "source": [
    "from sklearn.linear_model import Ridge\n",
    "ridge_reg= Ridge(alpha=50, max_iter=100, tol=0.1)\n",
    "ridge_reg.fit(x_train_w, y_train_w)"
   ]
  },
  {
   "cell_type": "code",
   "execution_count": 61,
   "id": "e42fe558-22f8-4eb3-b3de-4f29f0a30d65",
   "metadata": {},
   "outputs": [
    {
     "data": {
      "text/plain": [
       "0.6564508662106575"
      ]
     },
     "execution_count": 61,
     "metadata": {},
     "output_type": "execute_result"
    }
   ],
   "source": [
    "ridge_reg.score(x_train_w,y_train_w)"
   ]
  },
  {
   "cell_type": "code",
   "execution_count": 63,
   "id": "ac5e4d3f-39d0-4d0b-92ec-29fc68d8937b",
   "metadata": {},
   "outputs": [
    {
     "data": {
      "text/plain": [
       "0.6790554097482684"
      ]
     },
     "execution_count": 63,
     "metadata": {},
     "output_type": "execute_result"
    }
   ],
   "source": [
    "ridge_reg.score(x_test_w,y_test_w)"
   ]
  },
  {
   "cell_type": "code",
   "execution_count": null,
   "id": "09500b12-5d81-4cee-8aff-a7cac54ca848",
   "metadata": {},
   "outputs": [],
   "source": [
    "#Elastic net"
   ]
  },
  {
   "cell_type": "code",
   "execution_count": 64,
   "id": "e7bd0183-870d-410b-91dc-0b5d75d59e60",
   "metadata": {},
   "outputs": [
    {
     "data": {
      "text/plain": [
       "ElasticNet()"
      ]
     },
     "execution_count": 64,
     "metadata": {},
     "output_type": "execute_result"
    }
   ],
   "source": [
    "from sklearn.linear_model import ElasticNet\n",
    "en_reg = ElasticNet()\n",
    "en_reg.fit(x_train_w,y_train_w)"
   ]
  },
  {
   "cell_type": "code",
   "execution_count": 65,
   "id": "1eb61979-14ea-4809-8e2c-8682fb1d126f",
   "metadata": {},
   "outputs": [
    {
     "data": {
      "text/plain": [
       "0.4316600089621485"
      ]
     },
     "execution_count": 65,
     "metadata": {},
     "output_type": "execute_result"
    }
   ],
   "source": [
    "en_reg.score(x_train_w,y_train_w)"
   ]
  },
  {
   "cell_type": "code",
   "execution_count": 66,
   "id": "91ebdb0d-1c69-46bf-ad66-8d1b202ec097",
   "metadata": {},
   "outputs": [
    {
     "data": {
      "text/plain": [
       "0.4413618209841711"
      ]
     },
     "execution_count": 66,
     "metadata": {},
     "output_type": "execute_result"
    }
   ],
   "source": [
    "en_reg.score(x_test_w,y_test_w)"
   ]
  },
  {
   "cell_type": "code",
   "execution_count": null,
   "id": "86ac4e07-f934-46db-b50a-49a204c38b18",
   "metadata": {},
   "outputs": [],
   "source": []
  },
  {
   "cell_type": "code",
   "execution_count": null,
   "id": "a146f18f-ad05-4e32-bfc9-4ec2a3a3ff9f",
   "metadata": {},
   "outputs": [],
   "source": []
  }
 ],
 "metadata": {
  "kernelspec": {
   "display_name": "Python 3 (ipykernel)",
   "language": "python",
   "name": "python3"
  },
  "language_info": {
   "codemirror_mode": {
    "name": "ipython",
    "version": 3
   },
   "file_extension": ".py",
   "mimetype": "text/x-python",
   "name": "python",
   "nbconvert_exporter": "python",
   "pygments_lexer": "ipython3",
   "version": "3.9.12"
  }
 },
 "nbformat": 4,
 "nbformat_minor": 5
}
